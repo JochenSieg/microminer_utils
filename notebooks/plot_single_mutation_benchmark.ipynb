{
 "cells": [
  {
   "cell_type": "markdown",
   "id": "00e1410a",
   "metadata": {},
   "source": [
    "# Plot single mutation benchmark results\n",
    "Compare structures for the mutant by MicroMiner to the annotations of mutation data sets.\n"
   ]
  },
  {
   "cell_type": "code",
   "execution_count": 1,
   "id": "531042b4",
   "metadata": {
    "execution": {
     "iopub.execute_input": "2022-11-09T19:15:16.789275Z",
     "iopub.status.busy": "2022-11-09T19:15:16.787577Z",
     "iopub.status.idle": "2022-11-09T19:15:18.048973Z",
     "shell.execute_reply": "2022-11-09T19:15:18.048575Z"
    },
    "pycharm": {
     "name": "#%%\n"
    }
   },
   "outputs": [],
   "source": [
    "%matplotlib inline\n",
    "\n",
    "import warnings\n",
    "import matplotlib\n",
    "import numpy as np\n",
    "import pandas as pd\n",
    "import matplotlib.pyplot as plt\n",
    "import seaborn as sns\n",
    "import os\n",
    "import sys\n",
    "import tempfile\n",
    "from pathlib import Path\n",
    "\n",
    "\n",
    "# project root dir\n",
    "root_dir = Path('/local/sieg/projekte/microminer_evaluation')\n",
    "sys.path.insert(0, str(root_dir.resolve()))\n",
    "\n",
    "import helper\n",
    "from helper.constants import one_2_three_dict, three_2_one_dict\n",
    "from helper.tmalign import call_tmalign, parse_stdout\n",
    "from helper.utils import unpack_gz\n",
    "from helper.datasets.utils import get_pdb_file_path"
   ]
  },
  {
   "cell_type": "code",
   "execution_count": 2,
   "id": "194eeca3",
   "metadata": {
    "execution": {
     "iopub.execute_input": "2022-11-09T19:15:18.051347Z",
     "iopub.status.busy": "2022-11-09T19:15:18.051048Z",
     "iopub.status.idle": "2022-11-09T19:15:18.052695Z",
     "shell.execute_reply": "2022-11-09T19:15:18.052370Z"
    },
    "pycharm": {
     "name": "#%%\n"
    }
   },
   "outputs": [],
   "source": [
    "plots_outdir = Path('/local/sieg/projekte/microminer_evaluation/plots')"
   ]
  },
  {
   "cell_type": "code",
   "execution_count": 3,
   "id": "a8fa478f",
   "metadata": {
    "execution": {
     "iopub.execute_input": "2022-11-09T19:15:18.056723Z",
     "iopub.status.busy": "2022-11-09T19:15:18.056404Z",
     "iopub.status.idle": "2022-11-09T19:15:18.057941Z",
     "shell.execute_reply": "2022-11-09T19:15:18.058183Z"
    },
    "pycharm": {
     "name": "#%%\n"
    }
   },
   "outputs": [
    {
     "data": {
      "text/plain": [
       "['protherm', 'platinum', 'thermomutdb', 'shanthirabalan']"
      ]
     },
     "execution_count": 3,
     "metadata": {},
     "output_type": "execute_result"
    }
   ],
   "source": [
    "exp_search_dir = root_dir / 'results' / 'mutation_benchmark' / 'search'\n",
    "\n",
    "dataset_collection = helper.get_dataset_collection()\n",
    "datasets = [d.name for d in dataset_collection.get_mutation_datasets_with_structure_pairs()]\n",
    "datasets"
   ]
  },
  {
   "cell_type": "code",
   "execution_count": 4,
   "id": "9dc6150f",
   "metadata": {
    "execution": {
     "iopub.execute_input": "2022-11-09T19:15:18.063002Z",
     "iopub.status.busy": "2022-11-09T19:15:18.062686Z",
     "iopub.status.idle": "2022-11-09T19:15:18.069777Z",
     "shell.execute_reply": "2022-11-09T19:15:18.069467Z"
    },
    "pycharm": {
     "name": "#%%\n"
    }
   },
   "outputs": [
    {
     "data": {
      "text/html": [
       "<div>\n",
       "<style scoped>\n",
       "    .dataframe tbody tr th:only-of-type {\n",
       "        vertical-align: middle;\n",
       "    }\n",
       "\n",
       "    .dataframe tbody tr th {\n",
       "        vertical-align: top;\n",
       "    }\n",
       "\n",
       "    .dataframe thead th {\n",
       "        text-align: right;\n",
       "    }\n",
       "</style>\n",
       "<table border=\"1\" class=\"dataframe\">\n",
       "  <thead>\n",
       "    <tr style=\"text-align: right;\">\n",
       "      <th></th>\n",
       "      <th>pdb_wild</th>\n",
       "      <th>pdb_mutant</th>\n",
       "      <th>wild_chain</th>\n",
       "      <th>wild_aa</th>\n",
       "      <th>seq_num</th>\n",
       "      <th>mutation_aa</th>\n",
       "      <th>reason</th>\n",
       "    </tr>\n",
       "  </thead>\n",
       "  <tbody>\n",
       "    <tr>\n",
       "      <th>0</th>\n",
       "      <td>2LZM</td>\n",
       "      <td>128L</td>\n",
       "      <td>A</td>\n",
       "      <td>A</td>\n",
       "      <td>93</td>\n",
       "      <td>T</td>\n",
       "      <td>both A</td>\n",
       "    </tr>\n",
       "    <tr>\n",
       "      <th>1</th>\n",
       "      <td>1POH</td>\n",
       "      <td>1SPH</td>\n",
       "      <td>A</td>\n",
       "      <td>S</td>\n",
       "      <td>46</td>\n",
       "      <td>A</td>\n",
       "      <td>to D not A</td>\n",
       "    </tr>\n",
       "    <tr>\n",
       "      <th>2</th>\n",
       "      <td>2LZM</td>\n",
       "      <td>1L68</td>\n",
       "      <td>A</td>\n",
       "      <td>N</td>\n",
       "      <td>68</td>\n",
       "      <td>A</td>\n",
       "      <td>both N</td>\n",
       "    </tr>\n",
       "    <tr>\n",
       "      <th>3</th>\n",
       "      <td>1LZ1</td>\n",
       "      <td>1GAY</td>\n",
       "      <td>A</td>\n",
       "      <td>V</td>\n",
       "      <td>74</td>\n",
       "      <td>G</td>\n",
       "      <td>both V</td>\n",
       "    </tr>\n",
       "    <tr>\n",
       "      <th>4</th>\n",
       "      <td>1LZ1</td>\n",
       "      <td>1GAZ</td>\n",
       "      <td>A</td>\n",
       "      <td>V</td>\n",
       "      <td>74</td>\n",
       "      <td>I</td>\n",
       "      <td>both V</td>\n",
       "    </tr>\n",
       "    <tr>\n",
       "      <th>...</th>\n",
       "      <td>...</td>\n",
       "      <td>...</td>\n",
       "      <td>...</td>\n",
       "      <td>...</td>\n",
       "      <td>...</td>\n",
       "      <td>...</td>\n",
       "      <td>...</td>\n",
       "    </tr>\n",
       "    <tr>\n",
       "      <th>184</th>\n",
       "      <td>1CNQ</td>\n",
       "      <td>1YXI</td>\n",
       "      <td>A</td>\n",
       "      <td>A</td>\n",
       "      <td>54</td>\n",
       "      <td>L</td>\n",
       "      <td>PPI. Chain C missing in 1YXI</td>\n",
       "    </tr>\n",
       "    <tr>\n",
       "      <th>185</th>\n",
       "      <td>2TDM</td>\n",
       "      <td>1TSY</td>\n",
       "      <td>A</td>\n",
       "      <td>R</td>\n",
       "      <td>179</td>\n",
       "      <td>K</td>\n",
       "      <td>PPI. Chain B missing in 1TSY</td>\n",
       "    </tr>\n",
       "    <tr>\n",
       "      <th>186</th>\n",
       "      <td>2TDM</td>\n",
       "      <td>1TSV</td>\n",
       "      <td>A</td>\n",
       "      <td>R</td>\n",
       "      <td>179</td>\n",
       "      <td>A</td>\n",
       "      <td>PPI. Chain B missing in 1TSV</td>\n",
       "    </tr>\n",
       "    <tr>\n",
       "      <th>187</th>\n",
       "      <td>1AMK</td>\n",
       "      <td>1QDS</td>\n",
       "      <td>A</td>\n",
       "      <td>E</td>\n",
       "      <td>65</td>\n",
       "      <td>Q</td>\n",
       "      <td>PPI. Chain B missing in 1QDS</td>\n",
       "    </tr>\n",
       "    <tr>\n",
       "      <th>188</th>\n",
       "      <td>2JBZ</td>\n",
       "      <td>2WDS</td>\n",
       "      <td>A</td>\n",
       "      <td>H</td>\n",
       "      <td>110</td>\n",
       "      <td>A</td>\n",
       "      <td>PPI. Chain C missing in 2WDS</td>\n",
       "    </tr>\n",
       "  </tbody>\n",
       "</table>\n",
       "<p>189 rows × 7 columns</p>\n",
       "</div>"
      ],
      "text/plain": [
       "    pdb_wild pdb_mutant wild_chain wild_aa  seq_num mutation_aa   \n",
       "0       2LZM       128L          A       A       93           T  \\\n",
       "1       1POH       1SPH          A       S       46           A   \n",
       "2       2LZM       1L68          A       N       68           A   \n",
       "3       1LZ1       1GAY          A       V       74           G   \n",
       "4       1LZ1       1GAZ          A       V       74           I   \n",
       "..       ...        ...        ...     ...      ...         ...   \n",
       "184     1CNQ       1YXI          A       A       54           L   \n",
       "185     2TDM       1TSY          A       R      179           K   \n",
       "186     2TDM       1TSV          A       R      179           A   \n",
       "187     1AMK       1QDS          A       E       65           Q   \n",
       "188     2JBZ       2WDS          A       H      110           A   \n",
       "\n",
       "                           reason  \n",
       "0                          both A  \n",
       "1                      to D not A  \n",
       "2                          both N  \n",
       "3                          both V  \n",
       "4                          both V  \n",
       "..                            ...  \n",
       "184  PPI. Chain C missing in 1YXI  \n",
       "185  PPI. Chain B missing in 1TSY  \n",
       "186  PPI. Chain B missing in 1TSV  \n",
       "187  PPI. Chain B missing in 1QDS  \n",
       "188  PPI. Chain C missing in 2WDS  \n",
       "\n",
       "[189 rows x 7 columns]"
      ]
     },
     "execution_count": 4,
     "metadata": {},
     "output_type": "execute_result"
    }
   ],
   "source": [
    "df_problematic = pd.read_csv(root_dir / 'data' / 'problematic_single_mutations.tsv', sep='\\t', header=0)\n",
    "df_problematic"
   ]
  },
  {
   "cell_type": "code",
   "execution_count": 5,
   "id": "df5ef4dc",
   "metadata": {
    "execution": {
     "iopub.execute_input": "2022-11-09T19:15:18.072495Z",
     "iopub.status.busy": "2022-11-09T19:15:18.072178Z",
     "iopub.status.idle": "2022-11-09T19:15:18.073867Z",
     "shell.execute_reply": "2022-11-09T19:15:18.073554Z"
    },
    "pycharm": {
     "name": "#%%\n"
    }
   },
   "outputs": [],
   "source": [
    "# all the relevant columns microminer writes into its TSV \n",
    "microminer_cols = ['queryName', 'queryAA', 'queryChain', 'queryPos',\n",
    "                   'hitName', 'hitAA', 'hitChain', 'hitPos', 'siteIdentity',\n",
    "                   'siteBackBoneRMSD', 'nofSiteResidues', 'alignmentLDDT', 'fullSeqId']\n",
    "\n",
    "# columns needed to merge tables by mutations\n",
    "unique_mutation_helper_cols = [helper.WILD_COL, helper.MUTANT_COL, helper.WILD_AA, helper.MUT_AA, helper.WILD_SEQ_NUM]\n",
    "unique_mutation_problematic_cols = ['pdb_wild', 'pdb_mutant', 'wild_aa', 'mutation_aa', 'seq_num']"
   ]
  },
  {
   "cell_type": "markdown",
   "id": "96104d13",
   "metadata": {
    "pycharm": {
     "name": "#%% md\n"
    }
   },
   "source": [
    "## Make Found/Not-Found plot "
   ]
  },
  {
   "cell_type": "code",
   "execution_count": 6,
   "id": "e547f7f1",
   "metadata": {
    "execution": {
     "iopub.execute_input": "2022-11-09T19:15:18.078396Z",
     "iopub.status.busy": "2022-11-09T19:15:18.078086Z",
     "iopub.status.idle": "2022-11-09T19:15:18.079679Z",
     "shell.execute_reply": "2022-11-09T19:15:18.079367Z"
    },
    "pycharm": {
     "name": "#%%\n"
    }
   },
   "outputs": [],
   "source": [
    "def sanity_check_not_found_mutations_are_correct(df_notfound_test, dataset, unique_mutation_helper_cols):\n",
    "    # sanity-check that the not-found-mutation we generate with the eval_known_mutations.py are the same as the nan\n",
    "    # entries in the found-mutation dataframe.\n",
    "    usecols = unique_mutation_helper_cols\n",
    "    df_notfound = pd.read_csv(exp_search_dir / dataset / 'report' / f'{dataset}_not_found_eval.tsv', sep='\\t', header=0,\n",
    "                              usecols=usecols)\n",
    "    assert np.all(df_notfound_test[usecols].sort_values(usecols).values == df_notfound[usecols].sort_values(usecols).values)\n",
    "    \n",
    "def sanity_check_not_found_are_same(df_found_corrected, df_notfound, unique_mutation_helper_cols, unique_mutation_problematic_cols):\n",
    "    # This sanity-check is less important.\n",
    "    # compare the specifically extracted not-found mutations in df_notfound with the nan-rows in df_found_corrected. \n",
    "    # Just a number of rows comparison. No details of the data are compared.\n",
    "    df_merged = df_notfound.merge(df_problematic, left_on=unique_mutation_helper_cols, \n",
    "                                  right_on=unique_mutation_problematic_cols,\n",
    "                               how='left', indicator=True)\n",
    "    df_notfound_corrected = df_merged[df_merged['_merge'] == 'left_only'][unique_mutation_helper_cols]\n",
    "    # each not-found mutation has nan values in the MicroMiner columns. We probe the queryName column\n",
    "    assert df_found_corrected[df_found_corrected['queryName'] != df_found_corrected['queryName']].shape[0] == df_notfound_corrected.shape[0]"
   ]
  },
  {
   "cell_type": "code",
   "execution_count": 7,
   "id": "efa37a08",
   "metadata": {
    "execution": {
     "iopub.execute_input": "2022-11-09T19:15:18.083483Z",
     "iopub.status.busy": "2022-11-09T19:15:18.083174Z",
     "iopub.status.idle": "2022-11-09T19:15:18.219809Z",
     "shell.execute_reply": "2022-11-09T19:15:18.219489Z"
    },
    "pycharm": {
     "name": "#%%\n"
    }
   },
   "outputs": [
    {
     "name": "stdout",
     "output_type": "stream",
     "text": [
      "Processing: protherm\n",
      "Processing: platinum\n",
      "Processing: thermomutdb\n",
      "Processing: shanthirabalan\n"
     ]
    }
   ],
   "source": [
    "df_corrected_list = []\n",
    "df_list = []\n",
    "for dataset in datasets:\n",
    "    print(f'Processing: {dataset}')\n",
    "    df_found = pd.read_csv(exp_search_dir / dataset / 'report' / f'{dataset}_eval.tsv', sep='\\t', header=0)\n",
    "    \n",
    "    # extract NOT found mutations (uncorrected)\n",
    "    df_notfound = df_found[df_found['queryName'] != df_found['queryName']].copy()\n",
    "     # use wild-type chain id if mutation data set has annotation for it\n",
    "    relevant_cols_dataset = [helper.WILD_COL, helper.MUTANT_COL, helper.WILD_AA, helper.MUT_AA, helper.WILD_SEQ_NUM]\n",
    "    relevant_cols_reviewed_mutations = ['pdb_wild', 'pdb_mutant', 'wild_aa', 'mutation_aa', 'seq_num']\n",
    "    if helper.WILD_CHAIN in df_notfound.columns:\n",
    "        relevant_cols_dataset.append(helper.WILD_CHAIN)\n",
    "        relevant_cols_reviewed_mutations.append('wild_chain')\n",
    "    df_notfound = df_notfound[relevant_cols_dataset]\n",
    "    assert df_notfound.shape[0] == df_notfound.drop_duplicates().shape[0]\n",
    "    sanity_check_not_found_mutations_are_correct(df_notfound, dataset, relevant_cols_dataset)\n",
    "    \n",
    "    # Correct df_found dataframe to only contain the found mutation and the ones NOT in the list of problematic mutations \n",
    "    df_merged = df_found.merge(df_problematic, left_on=relevant_cols_dataset,\n",
    "                               right_on=relevant_cols_reviewed_mutations,\n",
    "                               how='left', indicator=True)\n",
    "    df_found_corrected = df_merged[df_merged['_merge'] == 'left_only']\n",
    "    df_found_corrected = df_found_corrected.drop('_merge', axis=1)\n",
    "    sanity_check_not_found_are_same(df_found_corrected, df_notfound, relevant_cols_dataset, relevant_cols_reviewed_mutations)\n",
    "    \n",
    "    # keep the corrected version of the mutations\n",
    "    df_found_corrected['dataset'] = dataset\n",
    "    df_corrected_list.append(df_found_corrected)\n",
    "    \n",
    "    # keep the native version of the mutations\n",
    "    df_found['dataset'] = dataset\n",
    "    df_list.append(df_found)"
   ]
  },
  {
   "cell_type": "code",
   "execution_count": 8,
   "id": "b5e4c5d7",
   "metadata": {
    "execution": {
     "iopub.execute_input": "2022-11-09T19:15:18.224118Z",
     "iopub.status.busy": "2022-11-09T19:15:18.223583Z",
     "iopub.status.idle": "2022-11-09T19:15:18.231597Z",
     "shell.execute_reply": "2022-11-09T19:15:18.231274Z"
    },
    "pycharm": {
     "name": "#%%\n"
    }
   },
   "outputs": [],
   "source": [
    "# generate dataframes containing only the MicroMiner results.\n",
    "# We need to do this to stack the results from the different datasets. Not-found mutations will be NaN/unidentifiable\n",
    "df_corrected_all = pd.concat([_df[microminer_cols + ['dataset']] for _df in df_corrected_list])\n",
    "df_all = pd.concat([_df[microminer_cols + ['dataset']] for _df in df_list])"
   ]
  },
  {
   "cell_type": "code",
   "execution_count": 9,
   "id": "6efa03d1",
   "metadata": {
    "execution": {
     "iopub.execute_input": "2022-11-09T19:15:18.240482Z",
     "iopub.status.busy": "2022-11-09T19:15:18.240172Z",
     "iopub.status.idle": "2022-11-09T19:15:18.242188Z",
     "shell.execute_reply": "2022-11-09T19:15:18.241884Z"
    },
    "pycharm": {
     "name": "#%%\n"
    }
   },
   "outputs": [
    {
     "data": {
      "text/plain": [
       "((1194, 14), (1433, 14), (189, 7))"
      ]
     },
     "execution_count": 9,
     "metadata": {},
     "output_type": "execute_result"
    }
   ],
   "source": [
    "df_corrected_all.shape, df_all.shape, df_problematic.shape"
   ]
  },
  {
   "cell_type": "code",
   "execution_count": 10,
   "id": "e8cb56c6",
   "metadata": {
    "execution": {
     "iopub.execute_input": "2022-11-09T19:15:18.246247Z",
     "iopub.status.busy": "2022-11-09T19:15:18.245932Z",
     "iopub.status.idle": "2022-11-09T19:15:18.252946Z",
     "shell.execute_reply": "2022-11-09T19:15:18.252684Z"
    },
    "pycharm": {
     "name": "#%%\n"
    }
   },
   "outputs": [
    {
     "data": {
      "text/html": [
       "<div>\n",
       "<style scoped>\n",
       "    .dataframe tbody tr th:only-of-type {\n",
       "        vertical-align: middle;\n",
       "    }\n",
       "\n",
       "    .dataframe tbody tr th {\n",
       "        vertical-align: top;\n",
       "    }\n",
       "\n",
       "    .dataframe thead th {\n",
       "        text-align: right;\n",
       "    }\n",
       "</style>\n",
       "<table border=\"1\" class=\"dataframe\">\n",
       "  <thead>\n",
       "    <tr style=\"text-align: right;\">\n",
       "      <th></th>\n",
       "      <th>dataset</th>\n",
       "      <th>all</th>\n",
       "      <th>found</th>\n",
       "      <th>not_found</th>\n",
       "    </tr>\n",
       "  </thead>\n",
       "  <tbody>\n",
       "    <tr>\n",
       "      <th>0</th>\n",
       "      <td>platinum</td>\n",
       "      <td>122</td>\n",
       "      <td>122</td>\n",
       "      <td>0</td>\n",
       "    </tr>\n",
       "    <tr>\n",
       "      <th>1</th>\n",
       "      <td>protherm</td>\n",
       "      <td>268</td>\n",
       "      <td>268</td>\n",
       "      <td>0</td>\n",
       "    </tr>\n",
       "    <tr>\n",
       "      <th>2</th>\n",
       "      <td>shanthirabalan</td>\n",
       "      <td>542</td>\n",
       "      <td>542</td>\n",
       "      <td>0</td>\n",
       "    </tr>\n",
       "    <tr>\n",
       "      <th>3</th>\n",
       "      <td>thermomutdb</td>\n",
       "      <td>262</td>\n",
       "      <td>262</td>\n",
       "      <td>0</td>\n",
       "    </tr>\n",
       "  </tbody>\n",
       "</table>\n",
       "</div>"
      ],
      "text/plain": [
       "          dataset  all  found  not_found\n",
       "0        platinum  122    122          0\n",
       "1        protherm  268    268          0\n",
       "2  shanthirabalan  542    542          0\n",
       "3     thermomutdb  262    262          0"
      ]
     },
     "execution_count": 10,
     "metadata": {},
     "output_type": "execute_result"
    }
   ],
   "source": [
    "df_corrected_counts = df_corrected_all.value_counts('dataset').to_frame('all').sort_index()\n",
    "df_corrected_counts['found'] = df_corrected_all.dropna().value_counts('dataset')\n",
    "df_corrected_counts['not_found'] = df_corrected_counts['all'] - df_corrected_counts['found']\n",
    "df_corrected_counts.reset_index(inplace=True)\n",
    "df_corrected_counts"
   ]
  },
  {
   "cell_type": "code",
   "execution_count": 11,
   "id": "9b7af882",
   "metadata": {
    "execution": {
     "iopub.execute_input": "2022-11-09T19:15:18.257129Z",
     "iopub.status.busy": "2022-11-09T19:15:18.256814Z",
     "iopub.status.idle": "2022-11-09T19:15:18.263143Z",
     "shell.execute_reply": "2022-11-09T19:15:18.263383Z"
    },
    "pycharm": {
     "name": "#%%\n"
    }
   },
   "outputs": [
    {
     "data": {
      "text/html": [
       "<div>\n",
       "<style scoped>\n",
       "    .dataframe tbody tr th:only-of-type {\n",
       "        vertical-align: middle;\n",
       "    }\n",
       "\n",
       "    .dataframe tbody tr th {\n",
       "        vertical-align: top;\n",
       "    }\n",
       "\n",
       "    .dataframe thead th {\n",
       "        text-align: right;\n",
       "    }\n",
       "</style>\n",
       "<table border=\"1\" class=\"dataframe\">\n",
       "  <thead>\n",
       "    <tr style=\"text-align: right;\">\n",
       "      <th></th>\n",
       "      <th>dataset</th>\n",
       "      <th>all</th>\n",
       "      <th>found</th>\n",
       "      <th>not_found</th>\n",
       "    </tr>\n",
       "  </thead>\n",
       "  <tbody>\n",
       "    <tr>\n",
       "      <th>0</th>\n",
       "      <td>platinum</td>\n",
       "      <td>137</td>\n",
       "      <td>122</td>\n",
       "      <td>15</td>\n",
       "    </tr>\n",
       "    <tr>\n",
       "      <th>1</th>\n",
       "      <td>protherm</td>\n",
       "      <td>323</td>\n",
       "      <td>268</td>\n",
       "      <td>55</td>\n",
       "    </tr>\n",
       "    <tr>\n",
       "      <th>2</th>\n",
       "      <td>shanthirabalan</td>\n",
       "      <td>546</td>\n",
       "      <td>543</td>\n",
       "      <td>3</td>\n",
       "    </tr>\n",
       "    <tr>\n",
       "      <th>3</th>\n",
       "      <td>thermomutdb</td>\n",
       "      <td>427</td>\n",
       "      <td>262</td>\n",
       "      <td>165</td>\n",
       "    </tr>\n",
       "  </tbody>\n",
       "</table>\n",
       "</div>"
      ],
      "text/plain": [
       "          dataset  all  found  not_found\n",
       "0        platinum  137    122         15\n",
       "1        protherm  323    268         55\n",
       "2  shanthirabalan  546    543          3\n",
       "3     thermomutdb  427    262        165"
      ]
     },
     "execution_count": 11,
     "metadata": {},
     "output_type": "execute_result"
    }
   ],
   "source": [
    "df_counts = df_all.value_counts('dataset').to_frame('all').sort_index()\n",
    "df_counts['found'] = df_all.dropna().value_counts('dataset')\n",
    "df_counts['not_found'] = df_counts['all'] - df_counts['found']\n",
    "df_counts.reset_index(inplace=True)\n",
    "df_counts"
   ]
  },
  {
   "cell_type": "code",
   "execution_count": 12,
   "id": "37933549",
   "metadata": {
    "execution": {
     "iopub.execute_input": "2022-11-09T19:15:18.268229Z",
     "iopub.status.busy": "2022-11-09T19:15:18.267885Z",
     "iopub.status.idle": "2022-11-09T19:15:18.269873Z",
     "shell.execute_reply": "2022-11-09T19:15:18.269556Z"
    }
   },
   "outputs": [
    {
     "data": {
      "text/html": [
       "<div>\n",
       "<style scoped>\n",
       "    .dataframe tbody tr th:only-of-type {\n",
       "        vertical-align: middle;\n",
       "    }\n",
       "\n",
       "    .dataframe tbody tr th {\n",
       "        vertical-align: top;\n",
       "    }\n",
       "\n",
       "    .dataframe thead th {\n",
       "        text-align: right;\n",
       "    }\n",
       "</style>\n",
       "<table border=\"1\" class=\"dataframe\">\n",
       "  <thead>\n",
       "    <tr style=\"text-align: right;\">\n",
       "      <th></th>\n",
       "      <th>dataset</th>\n",
       "      <th>all</th>\n",
       "      <th>found</th>\n",
       "      <th>not_found</th>\n",
       "      <th>really_not_found4plotting</th>\n",
       "    </tr>\n",
       "  </thead>\n",
       "  <tbody>\n",
       "    <tr>\n",
       "      <th>0</th>\n",
       "      <td>platinum</td>\n",
       "      <td>122</td>\n",
       "      <td>122</td>\n",
       "      <td>0</td>\n",
       "      <td>137</td>\n",
       "    </tr>\n",
       "    <tr>\n",
       "      <th>1</th>\n",
       "      <td>protherm</td>\n",
       "      <td>268</td>\n",
       "      <td>268</td>\n",
       "      <td>0</td>\n",
       "      <td>323</td>\n",
       "    </tr>\n",
       "    <tr>\n",
       "      <th>2</th>\n",
       "      <td>shanthirabalan</td>\n",
       "      <td>542</td>\n",
       "      <td>542</td>\n",
       "      <td>0</td>\n",
       "      <td>546</td>\n",
       "    </tr>\n",
       "    <tr>\n",
       "      <th>3</th>\n",
       "      <td>thermomutdb</td>\n",
       "      <td>262</td>\n",
       "      <td>262</td>\n",
       "      <td>0</td>\n",
       "      <td>427</td>\n",
       "    </tr>\n",
       "  </tbody>\n",
       "</table>\n",
       "</div>"
      ],
      "text/plain": [
       "          dataset  all  found  not_found  really_not_found4plotting\n",
       "0        platinum  122    122          0                        137\n",
       "1        protherm  268    268          0                        323\n",
       "2  shanthirabalan  542    542          0                        546\n",
       "3     thermomutdb  262    262          0                        427"
      ]
     },
     "execution_count": 12,
     "metadata": {},
     "output_type": "execute_result"
    }
   ],
   "source": [
    "df_corrected_counts['really_not_found4plotting'] = df_counts['all'] - df_corrected_counts['not_found']\n",
    "df_corrected_counts"
   ]
  },
  {
   "cell_type": "code",
   "execution_count": 13,
   "id": "ce3459fd",
   "metadata": {
    "execution": {
     "iopub.execute_input": "2022-11-09T19:15:18.273211Z",
     "iopub.status.busy": "2022-11-09T19:15:18.272858Z",
     "iopub.status.idle": "2022-11-09T19:15:18.274888Z",
     "shell.execute_reply": "2022-11-09T19:15:18.274620Z"
    },
    "pycharm": {
     "name": "#%%\n"
    }
   },
   "outputs": [
    {
     "data": {
      "text/plain": [
       "(100.0, 83.20802359532522)"
      ]
     },
     "execution_count": 13,
     "metadata": {},
     "output_type": "execute_result"
    }
   ],
   "source": [
    "# mean success over all data sets. -> How much percent known mutation could MicroMiner retrieve \n",
    "successrate_corrected = np.mean(df_corrected_counts['found'] / df_corrected_counts['all']) * 100\n",
    "successrate = np.mean(df_counts['found'] / df_counts['all']) * 100 \n",
    "successrate_corrected, successrate"
   ]
  },
  {
   "cell_type": "code",
   "execution_count": 14,
   "id": "e4886406",
   "metadata": {
    "execution": {
     "iopub.execute_input": "2022-11-09T19:15:18.277645Z",
     "iopub.status.busy": "2022-11-09T19:15:18.277266Z",
     "iopub.status.idle": "2022-11-09T19:15:18.278980Z",
     "shell.execute_reply": "2022-11-09T19:15:18.279218Z"
    },
    "pycharm": {
     "name": "#%%\n"
    }
   },
   "outputs": [
    {
     "data": {
      "text/html": [
       "<svg  width=\"550\" height=\"55\"><rect x=\"0\" y=\"0\" width=\"55\" height=\"55\" style=\"fill:#0173b2;stroke-width:2;stroke:rgb(255,255,255)\"/><rect x=\"55\" y=\"0\" width=\"55\" height=\"55\" style=\"fill:#de8f05;stroke-width:2;stroke:rgb(255,255,255)\"/><rect x=\"110\" y=\"0\" width=\"55\" height=\"55\" style=\"fill:#029e73;stroke-width:2;stroke:rgb(255,255,255)\"/><rect x=\"165\" y=\"0\" width=\"55\" height=\"55\" style=\"fill:#d55e00;stroke-width:2;stroke:rgb(255,255,255)\"/><rect x=\"220\" y=\"0\" width=\"55\" height=\"55\" style=\"fill:#cc78bc;stroke-width:2;stroke:rgb(255,255,255)\"/><rect x=\"275\" y=\"0\" width=\"55\" height=\"55\" style=\"fill:#ca9161;stroke-width:2;stroke:rgb(255,255,255)\"/><rect x=\"330\" y=\"0\" width=\"55\" height=\"55\" style=\"fill:#fbafe4;stroke-width:2;stroke:rgb(255,255,255)\"/><rect x=\"385\" y=\"0\" width=\"55\" height=\"55\" style=\"fill:#949494;stroke-width:2;stroke:rgb(255,255,255)\"/><rect x=\"440\" y=\"0\" width=\"55\" height=\"55\" style=\"fill:#ece133;stroke-width:2;stroke:rgb(255,255,255)\"/><rect x=\"495\" y=\"0\" width=\"55\" height=\"55\" style=\"fill:#56b4e9;stroke-width:2;stroke:rgb(255,255,255)\"/></svg>"
      ],
      "text/plain": [
       "['#0173b2',\n",
       " '#de8f05',\n",
       " '#029e73',\n",
       " '#d55e00',\n",
       " '#cc78bc',\n",
       " '#ca9161',\n",
       " '#fbafe4',\n",
       " '#949494',\n",
       " '#ece133',\n",
       " '#56b4e9']"
      ]
     },
     "execution_count": 14,
     "metadata": {},
     "output_type": "execute_result"
    }
   ],
   "source": [
    "pal = sns.color_palette('colorblind').as_hex()\n",
    "pal"
   ]
  },
  {
   "cell_type": "code",
   "execution_count": 15,
   "id": "9bbc03ef",
   "metadata": {
    "execution": {
     "iopub.execute_input": "2022-11-09T19:15:18.294185Z",
     "iopub.status.busy": "2022-11-09T19:15:18.293864Z",
     "iopub.status.idle": "2022-11-09T19:15:20.290280Z",
     "shell.execute_reply": "2022-11-09T19:15:20.290541Z"
    },
    "pycharm": {
     "name": "#%%\n"
    },
    "scrolled": false
   },
   "outputs": [
    {
     "data": {
      "image/png": "[encoded data removed]",
      "text/plain": [
       "<Figure size 1200x1200 with 1 Axes>"
      ]
     },
     "metadata": {},
     "output_type": "display_data"
    }
   ],
   "source": [
    "plt.rcParams['pdf.fonttype'] = 42  # Type 1 fonts\n",
    "plt.rcParams['ps.fonttype'] = 42   # Type 1 fonts\n",
    "\n",
    "sns.set()\n",
    "\n",
    "fig, ax = plt.subplots(1, 1, figsize=(12, 12), sharey=False, sharex=False,  )#dpi=600)\n",
    "plus = 10\n",
    "subplot_title_size = 25 + plus\n",
    "tick_size = 15+ plus\n",
    "x_label_size = 20+ plus\n",
    "y_label_size = 20+ plus\n",
    "legend_font_size = 22 + plus - 2\n",
    "\n",
    "dataset_order = ['protherm', 'thermomutdb', 'platinum', 'shanthirabalan']\n",
    "sns.barplot(data=df_counts, x='dataset', y='all', color=pal[2], order=dataset_order,ax=ax)\n",
    "# if np.any(df_corrected_counts['found'] != df_corrected_counts['all']):\n",
    "sns.barplot(data=df_corrected_counts, x='dataset', y='really_not_found4plotting', color=pal[1], ax=ax, order=dataset_order)\n",
    "sns.barplot(data=df_corrected_counts, x='dataset', y='found', color=pal[0], ax=ax, order=dataset_order, dodge=False)\n",
    "\n",
    "ax.set_ylabel('# Wild-type/mutant structure pairs', fontsize=y_label_size)\n",
    "ax.set_xlabel('Mutation Datasets', fontsize=x_label_size)\n",
    "ax.set_xticks(range(len(dataset_order)), ['ProTherm', 'ThermoMutDB', 'Platinum', 'Shanthirabalan et al.'])\n",
    "patches = [matplotlib.patches.Patch(color=pal[0], label='Found'),\n",
    "           matplotlib.patches.Patch(color=pal[1], label='Erroneous annotation/\\nunfitting structure ({number:.{digits}f}%)'.format(\n",
    "               number=100 - successrate, digits=0)),\n",
    "          ]\n",
    "if np.any(df_corrected_counts['found'] != df_corrected_counts['all']):\n",
    "    patches += [matplotlib.patches.Patch(color=pal[2], label='Not found ({number:.{digits}f}%)'.format(\n",
    "                number=100 - successrate_corrected, digits=1)),]\n",
    "plt.legend(handles=patches, fontsize=legend_font_size)\n",
    "\n",
    "ax.set_title('Single mutation search benchmark', fontsize=subplot_title_size)\n",
    "\n",
    "ax.tick_params(labelsize=tick_size)\n",
    "\n",
    "plt.tight_layout()\n",
    "\n",
    "# plt.savefig(plots_outdir / 'evaluation_single_mutations.png', dpi=600)\n",
    "# plt.savefig(plots_outdir / 'evaluation_single_mutations.pdf', dpi=900)\n",
    "# plt.savefig(plots_outdir / 'evaluation_single_mutations.svg', dpi=900)\n",
    "# plt.savefig(plots_outdir / 'evaluation_single_mutations.eps', dpi=600)\n",
    "plt.savefig(plots_outdir / 'evaluation_single_mutations.tiff', dpi=600, pil_kwargs={\"compression\": \"tiff_lzw\"})\n",
    "plt.savefig(plots_outdir / 'evaluation_single_mutations.jpeg', dpi=600)"
   ]
  }
 ],
 "metadata": {
  "kernelspec": {
   "display_name": "Python 3 (ipykernel)",
   "language": "python",
   "name": "python3"
  },
  "language_info": {
   "codemirror_mode": {
    "name": "ipython",
    "version": 3
   },
   "file_extension": ".py",
   "mimetype": "text/x-python",
   "name": "python",
   "nbconvert_exporter": "python",
   "pygments_lexer": "ipython3",
   "version": "3.8.16"
  }
 },
 "nbformat": 4,
 "nbformat_minor": 5
}
